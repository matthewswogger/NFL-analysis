{
 "cells": [
  {
   "cell_type": "code",
   "execution_count": 20,
   "metadata": {
    "collapsed": true
   },
   "outputs": [],
   "source": [
    "import pandas as pd\n",
    "import numpy as np\n",
    "import seaborn as sns\n",
    "import matplotlib.pyplot as plt\n",
    "from sklearn.cluster import KMeans\n",
    "from sklearn.metrics import silhouette_samples, silhouette_score\n",
    "%matplotlib inline"
   ]
  },
  {
   "cell_type": "code",
   "execution_count": 3,
   "metadata": {
    "collapsed": true
   },
   "outputs": [],
   "source": [
    "df_temp = pd.read_csv('nflplaybyplay2015.csv')"
   ]
  },
  {
   "cell_type": "code",
   "execution_count": 4,
   "metadata": {
    "collapsed": true
   },
   "outputs": [],
   "source": [
    "df = df_temp[['Date','GameID','Drive','qtr','down','TimeSecs','yrdline100','ydstogo',\\\n",
    "                                                      'Touchdown','ExPointResult','TwoPointConv','InterceptionThrown']]"
   ]
  },
  {
   "cell_type": "code",
   "execution_count": 5,
   "metadata": {
    "collapsed": true
   },
   "outputs": [
    {
     "name": "stderr",
     "output_type": "stream",
     "text": [
      "/Users/matthewswogger/anaconda/lib/python2.7/site-packages/ipykernel/__main__.py:1: SettingWithCopyWarning: \n",
      "A value is trying to be set on a copy of a slice from a DataFrame.\n",
      "Try using .loc[row_indexer,col_indexer] = value instead\n",
      "\n",
      "See the caveats in the documentation: http://pandas.pydata.org/pandas-docs/stable/indexing.html#indexing-view-versus-copy\n",
      "  if __name__ == '__main__':\n",
      "/Users/matthewswogger/anaconda/lib/python2.7/site-packages/ipykernel/__main__.py:2: SettingWithCopyWarning: \n",
      "A value is trying to be set on a copy of a slice from a DataFrame.\n",
      "Try using .loc[row_indexer,col_indexer] = value instead\n",
      "\n",
      "See the caveats in the documentation: http://pandas.pydata.org/pandas-docs/stable/indexing.html#indexing-view-versus-copy\n",
      "  from ipykernel import kernelapp as app\n",
      "/Users/matthewswogger/anaconda/lib/python2.7/site-packages/ipykernel/__main__.py:3: SettingWithCopyWarning: \n",
      "A value is trying to be set on a copy of a slice from a DataFrame.\n",
      "Try using .loc[row_indexer,col_indexer] = value instead\n",
      "\n",
      "See the caveats in the documentation: http://pandas.pydata.org/pandas-docs/stable/indexing.html#indexing-view-versus-copy\n",
      "  app.launch_new_instance()\n",
      "/Users/matthewswogger/anaconda/lib/python2.7/site-packages/pandas/core/generic.py:3191: SettingWithCopyWarning: \n",
      "A value is trying to be set on a copy of a slice from a DataFrame\n",
      "\n",
      "See the caveats in the documentation: http://pandas.pydata.org/pandas-docs/stable/indexing.html#indexing-view-versus-copy\n",
      "  self._update_inplace(new_data)\n"
     ]
    }
   ],
   "source": [
    "df['offensiveTeam'] = df_temp.posteam\n",
    "df['DefensiveTeam'] = df_temp.DefensiveTeam\n",
    "df['desc'] = df_temp.desc\n",
    "df.down.fillna(0, inplace=True)\n",
    "df.yrdline100.fillna(0, inplace=True)\n",
    "df.TimeSecs.fillna(0, inplace=True)\n",
    "df.ExPointResult.fillna('regular_play', inplace=True)\n",
    "df.TwoPointConv.fillna('regular_play', inplace=True)"
   ]
  },
  {
   "cell_type": "code",
   "execution_count": 6,
   "metadata": {
    "collapsed": false
   },
   "outputs": [],
   "source": [
    "X = df[['Drive','qtr','down','yrdline100','ydstogo','Touchdown','ExPointResult','TwoPointConv','InterceptionThrown']]\n",
    "# X['TimeSecs'] = df['TimeSecs'] / 8"
   ]
  },
  {
   "cell_type": "code",
   "execution_count": 7,
   "metadata": {
    "collapsed": true
   },
   "outputs": [
    {
     "name": "stderr",
     "output_type": "stream",
     "text": [
      "/Users/matthewswogger/anaconda/lib/python2.7/site-packages/ipykernel/__main__.py:1: SettingWithCopyWarning: \n",
      "A value is trying to be set on a copy of a slice from a DataFrame\n",
      "\n",
      "See the caveats in the documentation: http://pandas.pydata.org/pandas-docs/stable/indexing.html#indexing-view-versus-copy\n",
      "  if __name__ == '__main__':\n",
      "/Users/matthewswogger/anaconda/lib/python2.7/site-packages/pandas/core/generic.py:4485: SettingWithCopyWarning: \n",
      "A value is trying to be set on a copy of a slice from a DataFrame\n",
      "\n",
      "See the caveats in the documentation: http://pandas.pydata.org/pandas-docs/stable/indexing.html#indexing-view-versus-copy\n",
      "  self._update_inplace(new_data)\n",
      "/Users/matthewswogger/anaconda/lib/python2.7/site-packages/IPython/core/interactiveshell.py:2885: SettingWithCopyWarning: \n",
      "A value is trying to be set on a copy of a slice from a DataFrame\n",
      "\n",
      "See the caveats in the documentation: http://pandas.pydata.org/pandas-docs/stable/indexing.html#indexing-view-versus-copy\n",
      "  exec(code_obj, self.user_global_ns, self.user_ns)\n",
      "/Users/matthewswogger/anaconda/lib/python2.7/site-packages/ipykernel/__main__.py:2: SettingWithCopyWarning: \n",
      "A value is trying to be set on a copy of a slice from a DataFrame\n",
      "\n",
      "See the caveats in the documentation: http://pandas.pydata.org/pandas-docs/stable/indexing.html#indexing-view-versus-copy\n",
      "  from ipykernel import kernelapp as app\n",
      "/Users/matthewswogger/anaconda/lib/python2.7/site-packages/ipykernel/__main__.py:3: SettingWithCopyWarning: \n",
      "A value is trying to be set on a copy of a slice from a DataFrame\n",
      "\n",
      "See the caveats in the documentation: http://pandas.pydata.org/pandas-docs/stable/indexing.html#indexing-view-versus-copy\n",
      "  app.launch_new_instance()\n",
      "/Users/matthewswogger/anaconda/lib/python2.7/site-packages/ipykernel/__main__.py:4: SettingWithCopyWarning: \n",
      "A value is trying to be set on a copy of a slice from a DataFrame\n",
      "\n",
      "See the caveats in the documentation: http://pandas.pydata.org/pandas-docs/stable/indexing.html#indexing-view-versus-copy\n",
      "/Users/matthewswogger/anaconda/lib/python2.7/site-packages/ipykernel/__main__.py:6: SettingWithCopyWarning: \n",
      "A value is trying to be set on a copy of a slice from a DataFrame\n",
      "\n",
      "See the caveats in the documentation: http://pandas.pydata.org/pandas-docs/stable/indexing.html#indexing-view-versus-copy\n",
      "/Users/matthewswogger/anaconda/lib/python2.7/site-packages/ipykernel/__main__.py:7: SettingWithCopyWarning: \n",
      "A value is trying to be set on a copy of a slice from a DataFrame\n",
      "\n",
      "See the caveats in the documentation: http://pandas.pydata.org/pandas-docs/stable/indexing.html#indexing-view-versus-copy\n",
      "/Users/matthewswogger/anaconda/lib/python2.7/site-packages/ipykernel/__main__.py:8: SettingWithCopyWarning: \n",
      "A value is trying to be set on a copy of a slice from a DataFrame\n",
      "\n",
      "See the caveats in the documentation: http://pandas.pydata.org/pandas-docs/stable/indexing.html#indexing-view-versus-copy\n"
     ]
    }
   ],
   "source": [
    "X.ExPointResult[X.ExPointResult == 'regular_play'] = 0\n",
    "X.ExPointResult[X.ExPointResult == 'Made'] = 1\n",
    "X.ExPointResult[X.ExPointResult == 'Missed'] = 2\n",
    "X.ExPointResult[X.ExPointResult == 'Aborted'] = 3\n",
    "\n",
    "X.TwoPointConv[X.TwoPointConv == 'regular_play'] = 0\n",
    "X.TwoPointConv[X.TwoPointConv == 'Success'] = 1\n",
    "X.TwoPointConv[X.TwoPointConv == 'Failure'] = 2"
   ]
  },
  {
   "cell_type": "code",
   "execution_count": 8,
   "metadata": {
    "collapsed": false
   },
   "outputs": [],
   "source": [
    "# k_list = [2,4,6,8,10,12,14,16,18,20,22,24,26,28,30,32]\n",
    "# for k in k_list:\n",
    "#     kmeans = KMeans(n_clusters=k).fit(X)\n",
    "#     assigned_clusters = kmeans.labels_\n",
    "#     print silhouette_score(np.array(X), assigned_cluster, sample_size=20000)"
   ]
  },
  {
   "cell_type": "code",
   "execution_count": 9,
   "metadata": {
    "collapsed": true
   },
   "outputs": [],
   "source": [
    "kmeans = KMeans(n_clusters=32).fit(X)# none of the scores look better or worse so go with number of teams in NFL\n",
    "assigned_clusters = kmeans.labels_"
   ]
  },
  {
   "cell_type": "code",
   "execution_count": 10,
   "metadata": {
    "collapsed": true
   },
   "outputs": [
    {
     "name": "stderr",
     "output_type": "stream",
     "text": [
      "/Users/matthewswogger/anaconda/lib/python2.7/site-packages/ipykernel/__main__.py:1: SettingWithCopyWarning: \n",
      "A value is trying to be set on a copy of a slice from a DataFrame.\n",
      "Try using .loc[row_indexer,col_indexer] = value instead\n",
      "\n",
      "See the caveats in the documentation: http://pandas.pydata.org/pandas-docs/stable/indexing.html#indexing-view-versus-copy\n",
      "  if __name__ == '__main__':\n"
     ]
    }
   ],
   "source": [
    "df['cluster_assignment'] = pd.Series(assigned_clusters)"
   ]
  },
  {
   "cell_type": "code",
   "execution_count": 11,
   "metadata": {
    "collapsed": true
   },
   "outputs": [],
   "source": [
    "# def split_into_teams_offense(df):\n",
    "#     teams = df.offensiveTeam.unique()\n",
    "#     return [df[df.offensiveTeam == team] for team in teams]\n",
    "\n",
    "# def split_into_teams_defense(df):\n",
    "#     teams = df.DefensiveTeam.unique()\n",
    "#     return [df[df.DefensiveTeam == team] for team in teams]"
   ]
  },
  {
   "cell_type": "code",
   "execution_count": 12,
   "metadata": {
    "collapsed": true
   },
   "outputs": [],
   "source": [
    "df_den_o = df[df.offensiveTeam == 'DEN']# Denver offensive plays\n",
    "df_den_d = df[df.DefensiveTeam == 'DEN']# Denver deffensive plays\n",
    "\n",
    "df_car_o = df[df.offensiveTeam == 'CAR']# Carolina offensive plays\n",
    "df_car_d = df[df.DefensiveTeam == 'CAR']# Carolina deffensive plays\n",
    "\n",
    "df_ten_o = df[df.offensiveTeam == 'TEN']# Tennessee offensive plays\n",
    "df_ten_d = df[df.DefensiveTeam == 'TEN']# Tennessee deffensive plays"
   ]
  },
  {
   "cell_type": "code",
   "execution_count": 28,
   "metadata": {
    "collapsed": false
   },
   "outputs": [
    {
     "name": "stdout",
     "output_type": "stream",
     "text": [
      "Denver Offense\n",
      "Top 5 Clusters:   [ 5 20 14  8  3]\n",
      "Bottom 5 Clusters:[ 1 29 18  6 11]\n"
     ]
    }
   ],
   "source": [
    "num_times_in_clusters = df_den_o.groupby('cluster_assignment').count()\n",
    "x = np.array(num_times_in_clusters)[:,0]\n",
    "clusters_order = np.argsort(x)# tells us what clusters Denver Offense is in sorted from the least often to most often\n",
    "print 'Denver Offense'\n",
    "print 'Top 5 Clusters:   {}'.format(clusters_order[::-1][:5])\n",
    "print 'Bottom 5 Clusters:{}'.format(clusters_order[:5])"
   ]
  },
  {
   "cell_type": "code",
   "execution_count": 14,
   "metadata": {
    "collapsed": false
   },
   "outputs": [
    {
     "name": "stdout",
     "output_type": "stream",
     "text": [
      "Carolina Offense\n",
      "Top 5 Clusters:   [20 14  2 16 17]\n",
      "Bottom 5 Clusters:[29  1 31 21  7]\n"
     ]
    }
   ],
   "source": [
    "num_times_in_clusters = df_car_o.groupby('cluster_assignment').count()\n",
    "x = np.array(num_times_in_clusters)[:,0]\n",
    "clusters_order = np.argsort(x)# tells us what clusters Carolina Offense is in sorted from the least often to most often\n",
    "print 'Carolina Offense'\n",
    "print 'Top 5 Clusters:   {}'.format(clusters_order[::-1][:5])\n",
    "print 'Bottom 5 Clusters:{}'.format(clusters_order[:5])"
   ]
  },
  {
   "cell_type": "code",
   "execution_count": 15,
   "metadata": {
    "collapsed": false
   },
   "outputs": [
    {
     "name": "stdout",
     "output_type": "stream",
     "text": [
      "Tennessee Offense\n",
      "Top 5 Clusters:   [14 20  5  8 12]\n",
      "Bottom 5 Clusters:[29  1 28 18  6]\n"
     ]
    }
   ],
   "source": [
    "num_times_in_clusters = df_ten_o.groupby('cluster_assignment').count()\n",
    "x = np.array(num_times_in_clusters)[:,0]\n",
    "clusters_order = np.argsort(x)# tells us what clusters Tennessee Offense is in sorted from the least often to most often\n",
    "print 'Tennessee Offense'\n",
    "print 'Top 5 Clusters:   {}'.format(clusters_order[::-1][:5])\n",
    "print 'Bottom 5 Clusters:{}'.format(clusters_order[:5])"
   ]
  },
  {
   "cell_type": "code",
   "execution_count": 16,
   "metadata": {
    "collapsed": false
   },
   "outputs": [
    {
     "name": "stdout",
     "output_type": "stream",
     "text": [
      "Denver Defense\n",
      "Top 5 Clusters:   [ 3  4 20 15 14]\n",
      "Bottom 5 Clusters:[29 28  1 18  6]\n"
     ]
    }
   ],
   "source": [
    "num_times_in_clusters = df_den_d.groupby('cluster_assignment').count()\n",
    "x = np.array(num_times_in_clusters)[:,0]\n",
    "clusters_order = np.argsort(x)# tells us what clusters Denver Offense is in sorted from the least often to most often\n",
    "print 'Denver Defense'\n",
    "print 'Top 5 Clusters:   {}'.format(clusters_order[::-1][:5])\n",
    "print 'Bottom 5 Clusters:{}'.format(clusters_order[:5])"
   ]
  },
  {
   "cell_type": "code",
   "execution_count": 17,
   "metadata": {
    "collapsed": false
   },
   "outputs": [
    {
     "name": "stdout",
     "output_type": "stream",
     "text": [
      "Carolina Offense\n",
      "Top 5 Clusters:   [14 20 21 15 12]\n",
      "Bottom 5 Clusters:[18 29  1 28  0]\n"
     ]
    }
   ],
   "source": [
    "num_times_in_clusters = df_car_d.groupby('cluster_assignment').count()\n",
    "x = np.array(num_times_in_clusters)[:,0]\n",
    "clusters_order = np.argsort(x)# tells us what clusters Carolina Offense is in sorted from the least often to most often\n",
    "print 'Carolina Offense'\n",
    "print 'Top 5 Clusters:   {}'.format(clusters_order[::-1][:5])\n",
    "print 'Bottom 5 Clusters:{}'.format(clusters_order[:5])"
   ]
  },
  {
   "cell_type": "code",
   "execution_count": 18,
   "metadata": {
    "collapsed": false
   },
   "outputs": [
    {
     "name": "stdout",
     "output_type": "stream",
     "text": [
      "Tennessee Offense\n",
      "Top 5 Clusters:   [15 14  8 17  4]\n",
      "Bottom 5 Clusters:[29  1 18 31 21]\n"
     ]
    }
   ],
   "source": [
    "num_times_in_clusters = df_ten_d.groupby('cluster_assignment').count()\n",
    "x = np.array(num_times_in_clusters)[:,0]\n",
    "clusters_order = np.argsort(x)# tells us what clusters Tennessee Offense is in sorted from the least often to most often\n",
    "print 'Tennessee Offense'\n",
    "print 'Top 5 Clusters:   {}'.format(clusters_order[::-1][:5])\n",
    "print 'Bottom 5 Clusters:{}'.format(clusters_order[:5])"
   ]
  },
  {
   "cell_type": "code",
   "execution_count": 46,
   "metadata": {
    "collapsed": false
   },
   "outputs": [
    {
     "data": {
      "image/png": "[encoded data removed]",
      "text/plain": [
       "<matplotlib.figure.Figure at 0x11b22f050>"
      ]
     },
     "metadata": {},
     "output_type": "display_data"
    }
   ],
   "source": [
    "num_times_in_clusters_den = df_den_o.groupby('cluster_assignment').count()\n",
    "denver_offense_clusters = np.array(num_times_in_clusters_den)[:,0]\n",
    "\n",
    "num_times_in_clusters_car = df_car_o.groupby('cluster_assignment').count()\n",
    "carolina_offense_clusters = np.array(num_times_in_clusters_car)[:,0]\n",
    "\n",
    "num_times_in_clusters_ten = df_ten_o.groupby('cluster_assignment').count()\n",
    "tennessee_offense_clusters = np.array(num_times_in_clusters_ten)[:,0]\n",
    "\n",
    "plt.figure(figsize=(15,5))\n",
    "plt.hist([denver_offense_clusters, carolina_offense_clusters, tennessee_offense_clusters], label=['Denver','Carolina','Tennessee'])\n",
    "plt.title('Denver, Carolina, Tennessee Offense Plays Clusters', size=30)\n",
    "plt.legend()\n",
    "plt.show()"
   ]
  },
  {
   "cell_type": "code",
   "execution_count": 50,
   "metadata": {
    "collapsed": false
   },
   "outputs": [
    {
     "data": {
      "image/png": "[encoded data removed]",
      "text/plain": [
       "<matplotlib.figure.Figure at 0x117f44890>"
      ]
     },
     "metadata": {},
     "output_type": "display_data"
    }
   ],
   "source": [
    "num_times_in_clusters_den = df_den_d.groupby('cluster_assignment').count()\n",
    "denver_defense_clusters = np.array(num_times_in_clusters_den)[:,0]\n",
    "\n",
    "num_times_in_clusters_car = df_car_d.groupby('cluster_assignment').count()\n",
    "carolina_defense_clusters = np.array(num_times_in_clusters_car)[:,0]\n",
    "\n",
    "num_times_in_clusters_ten = df_ten_d.groupby('cluster_assignment').count()\n",
    "tennessee_defense_clusters = np.array(num_times_in_clusters_ten)[:,0]\n",
    "\n",
    "plt.figure(figsize=(15,5))\n",
    "plt.hist([denver_defense_clusters, carolina_defense_clusters, tennessee_defense_clusters], label=['Denver','Carolina','Tennessee'])\n",
    "plt.title('Denver, Carolina, Tennessee Defense Plays Clusters', size=30)\n",
    "plt.legend()\n",
    "plt.show()"
   ]
  },
  {
   "cell_type": "code",
   "execution_count": null,
   "metadata": {
    "collapsed": true
   },
   "outputs": [],
   "source": []
  }
 ],
 "metadata": {
  "kernelspec": {
   "display_name": "Python 2",
   "language": "python",
   "name": "python2"
  },
  "language_info": {
   "codemirror_mode": {
    "name": "ipython",
    "version": 2
   },
   "file_extension": ".py",
   "mimetype": "text/x-python",
   "name": "python",
   "nbconvert_exporter": "python",
   "pygments_lexer": "ipython2",
   "version": "2.7.11"
  },
  "widgets": {
   "state": {},
   "version": "1.1.2"
  }
 },
 "nbformat": 4,
 "nbformat_minor": 0
}
