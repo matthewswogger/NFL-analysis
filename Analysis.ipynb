{
 "cells": [
  {
   "cell_type": "code",
   "execution_count": 1,
   "metadata": {
    "collapsed": true
   },
   "outputs": [],
   "source": [
    "import pandas as pd\n",
    "import numpy as np\n",
    "import seaborn as ss\n",
    "import matplotlib.pyplot as plt\n",
    "from sklearn.cluster import KMeans\n",
    "from sklearn.metrics import silhouette_samples, silhouette_score\n",
    "%matplotlib inline"
   ]
  },
  {
   "cell_type": "code",
   "execution_count": 2,
   "metadata": {
    "collapsed": true
   },
   "outputs": [
    {
     "name": "stderr",
     "output_type": "stream",
     "text": [
      "/Users/matthewswogger/anaconda/lib/python2.7/site-packages/IPython/core/interactiveshell.py:2723: DtypeWarning: Columns (26) have mixed types. Specify dtype option on import or set low_memory=False.\n",
      "  interactivity=interactivity, compiler=compiler, result=result)\n"
     ]
    }
   ],
   "source": [
    "df_temp = pd.read_csv('nflplaybyplay2015.csv')"
   ]
  },
  {
   "cell_type": "code",
   "execution_count": 3,
   "metadata": {
    "collapsed": true
   },
   "outputs": [],
   "source": [
    "df = df_temp[['Date','GameID','Drive','qtr','down','TimeSecs','yrdline100','ydstogo',\\\n",
    "                                                      'Touchdown','ExPointResult','TwoPointConv','InterceptionThrown']]"
   ]
  },
  {
   "cell_type": "code",
   "execution_count": 4,
   "metadata": {
    "collapsed": true
   },
   "outputs": [
    {
     "name": "stderr",
     "output_type": "stream",
     "text": [
      "/Users/matthewswogger/anaconda/lib/python2.7/site-packages/ipykernel/__main__.py:1: SettingWithCopyWarning: \n",
      "A value is trying to be set on a copy of a slice from a DataFrame.\n",
      "Try using .loc[row_indexer,col_indexer] = value instead\n",
      "\n",
      "See the caveats in the documentation: http://pandas.pydata.org/pandas-docs/stable/indexing.html#indexing-view-versus-copy\n",
      "  if __name__ == '__main__':\n",
      "/Users/matthewswogger/anaconda/lib/python2.7/site-packages/ipykernel/__main__.py:2: SettingWithCopyWarning: \n",
      "A value is trying to be set on a copy of a slice from a DataFrame.\n",
      "Try using .loc[row_indexer,col_indexer] = value instead\n",
      "\n",
      "See the caveats in the documentation: http://pandas.pydata.org/pandas-docs/stable/indexing.html#indexing-view-versus-copy\n",
      "  from ipykernel import kernelapp as app\n",
      "/Users/matthewswogger/anaconda/lib/python2.7/site-packages/ipykernel/__main__.py:3: SettingWithCopyWarning: \n",
      "A value is trying to be set on a copy of a slice from a DataFrame.\n",
      "Try using .loc[row_indexer,col_indexer] = value instead\n",
      "\n",
      "See the caveats in the documentation: http://pandas.pydata.org/pandas-docs/stable/indexing.html#indexing-view-versus-copy\n",
      "  app.launch_new_instance()\n",
      "/Users/matthewswogger/anaconda/lib/python2.7/site-packages/pandas/core/generic.py:3191: SettingWithCopyWarning: \n",
      "A value is trying to be set on a copy of a slice from a DataFrame\n",
      "\n",
      "See the caveats in the documentation: http://pandas.pydata.org/pandas-docs/stable/indexing.html#indexing-view-versus-copy\n",
      "  self._update_inplace(new_data)\n"
     ]
    }
   ],
   "source": [
    "df['offensiveTeam'] = df_temp.posteam\n",
    "df['DefensiveTeam'] = df_temp.DefensiveTeam\n",
    "df['desc'] = df_temp.desc\n",
    "df.down.fillna(0, inplace=True)\n",
    "df.yrdline100.fillna(0, inplace=True)\n",
    "df.TimeSecs.fillna(0, inplace=True)\n",
    "df.ExPointResult.fillna('regular_play', inplace=True)\n",
    "df.TwoPointConv.fillna('regular_play', inplace=True)"
   ]
  },
  {
   "cell_type": "code",
   "execution_count": 5,
   "metadata": {
    "collapsed": false
   },
   "outputs": [],
   "source": [
    "X = df[['Drive','qtr','down','TimeSecs','yrdline100','ydstogo','Touchdown',\\\n",
    "                                                                'ExPointResult','TwoPointConv','InterceptionThrown']]"
   ]
  },
  {
   "cell_type": "code",
   "execution_count": 6,
   "metadata": {
    "collapsed": true
   },
   "outputs": [
    {
     "name": "stderr",
     "output_type": "stream",
     "text": [
      "/Users/matthewswogger/anaconda/lib/python2.7/site-packages/ipykernel/__main__.py:1: SettingWithCopyWarning: \n",
      "A value is trying to be set on a copy of a slice from a DataFrame\n",
      "\n",
      "See the caveats in the documentation: http://pandas.pydata.org/pandas-docs/stable/indexing.html#indexing-view-versus-copy\n",
      "  if __name__ == '__main__':\n",
      "/Users/matthewswogger/anaconda/lib/python2.7/site-packages/pandas/core/generic.py:4485: SettingWithCopyWarning: \n",
      "A value is trying to be set on a copy of a slice from a DataFrame\n",
      "\n",
      "See the caveats in the documentation: http://pandas.pydata.org/pandas-docs/stable/indexing.html#indexing-view-versus-copy\n",
      "  self._update_inplace(new_data)\n",
      "/Users/matthewswogger/anaconda/lib/python2.7/site-packages/IPython/core/interactiveshell.py:2885: SettingWithCopyWarning: \n",
      "A value is trying to be set on a copy of a slice from a DataFrame\n",
      "\n",
      "See the caveats in the documentation: http://pandas.pydata.org/pandas-docs/stable/indexing.html#indexing-view-versus-copy\n",
      "  exec(code_obj, self.user_global_ns, self.user_ns)\n",
      "/Users/matthewswogger/anaconda/lib/python2.7/site-packages/ipykernel/__main__.py:2: SettingWithCopyWarning: \n",
      "A value is trying to be set on a copy of a slice from a DataFrame\n",
      "\n",
      "See the caveats in the documentation: http://pandas.pydata.org/pandas-docs/stable/indexing.html#indexing-view-versus-copy\n",
      "  from ipykernel import kernelapp as app\n",
      "/Users/matthewswogger/anaconda/lib/python2.7/site-packages/ipykernel/__main__.py:3: SettingWithCopyWarning: \n",
      "A value is trying to be set on a copy of a slice from a DataFrame\n",
      "\n",
      "See the caveats in the documentation: http://pandas.pydata.org/pandas-docs/stable/indexing.html#indexing-view-versus-copy\n",
      "  app.launch_new_instance()\n",
      "/Users/matthewswogger/anaconda/lib/python2.7/site-packages/ipykernel/__main__.py:4: SettingWithCopyWarning: \n",
      "A value is trying to be set on a copy of a slice from a DataFrame\n",
      "\n",
      "See the caveats in the documentation: http://pandas.pydata.org/pandas-docs/stable/indexing.html#indexing-view-versus-copy\n",
      "/Users/matthewswogger/anaconda/lib/python2.7/site-packages/ipykernel/__main__.py:6: SettingWithCopyWarning: \n",
      "A value is trying to be set on a copy of a slice from a DataFrame\n",
      "\n",
      "See the caveats in the documentation: http://pandas.pydata.org/pandas-docs/stable/indexing.html#indexing-view-versus-copy\n",
      "/Users/matthewswogger/anaconda/lib/python2.7/site-packages/ipykernel/__main__.py:7: SettingWithCopyWarning: \n",
      "A value is trying to be set on a copy of a slice from a DataFrame\n",
      "\n",
      "See the caveats in the documentation: http://pandas.pydata.org/pandas-docs/stable/indexing.html#indexing-view-versus-copy\n",
      "/Users/matthewswogger/anaconda/lib/python2.7/site-packages/ipykernel/__main__.py:8: SettingWithCopyWarning: \n",
      "A value is trying to be set on a copy of a slice from a DataFrame\n",
      "\n",
      "See the caveats in the documentation: http://pandas.pydata.org/pandas-docs/stable/indexing.html#indexing-view-versus-copy\n"
     ]
    }
   ],
   "source": [
    "X.ExPointResult[X.ExPointResult == 'regular_play'] = 0\n",
    "X.ExPointResult[X.ExPointResult == 'Made'] = 1\n",
    "X.ExPointResult[X.ExPointResult == 'Missed'] = 2\n",
    "X.ExPointResult[X.ExPointResult == 'Aborted'] = 3\n",
    "\n",
    "X.TwoPointConv[X.TwoPointConv == 'regular_play'] = 0\n",
    "X.TwoPointConv[X.TwoPointConv == 'Success'] = 1\n",
    "X.TwoPointConv[X.TwoPointConv == 'Failure'] = 2"
   ]
  },
  {
   "cell_type": "code",
   "execution_count": null,
   "metadata": {
    "collapsed": false
   },
   "outputs": [],
   "source": [
    "# k_list = [2,4,6,8,10,12,14,16,18,20,22,24,26,28,30,32]\n",
    "# for k in k_list:\n",
    "#     kmeans = KMeans(n_clusters=k).fit(X)\n",
    "#     assigned_clusters = kmeans.labels_\n",
    "#     print silhouette_score(np.array(X), assigned_cluster, sample_size=20000)"
   ]
  },
  {
   "cell_type": "code",
   "execution_count": 7,
   "metadata": {
    "collapsed": true
   },
   "outputs": [],
   "source": [
    "kmeans = KMeans(n_clusters=32).fit(X)# none of the scores look better or worse so go with number of teams in NFL\n",
    "assigned_clusters = kmeans.labels_"
   ]
  },
  {
   "cell_type": "code",
   "execution_count": 9,
   "metadata": {
    "collapsed": true
   },
   "outputs": [
    {
     "name": "stderr",
     "output_type": "stream",
     "text": [
      "/Users/matthewswogger/anaconda/lib/python2.7/site-packages/ipykernel/__main__.py:1: SettingWithCopyWarning: \n",
      "A value is trying to be set on a copy of a slice from a DataFrame.\n",
      "Try using .loc[row_indexer,col_indexer] = value instead\n",
      "\n",
      "See the caveats in the documentation: http://pandas.pydata.org/pandas-docs/stable/indexing.html#indexing-view-versus-copy\n",
      "  if __name__ == '__main__':\n"
     ]
    }
   ],
   "source": [
    "df['cluster_assignment'] = pd.Series(assigned_clusters)"
   ]
  },
  {
   "cell_type": "code",
   "execution_count": 10,
   "metadata": {
    "collapsed": true
   },
   "outputs": [],
   "source": [
    "# def split_into_teams_offense(df):\n",
    "#     teams = df.offensiveTeam.unique()\n",
    "#     return [df[df.offensiveTeam == team] for team in teams]\n",
    "\n",
    "# def split_into_teams_defense(df):\n",
    "#     teams = df.DefensiveTeam.unique()\n",
    "#     return [df[df.DefensiveTeam == team] for team in teams]"
   ]
  },
  {
   "cell_type": "code",
   "execution_count": 11,
   "metadata": {
    "collapsed": true
   },
   "outputs": [],
   "source": [
    "df_den_o = df[df.offensiveTeam == 'DEN']# Denver offensive plays\n",
    "df_den_d = df[df.DefensiveTeam == 'DEN']# Denver deffensive plays\n",
    "\n",
    "df_car_o = df[df.offensiveTeam == 'CAR']# Carolina offensive plays\n",
    "df_car_d = df[df.DefensiveTeam == 'CAR']# Carolina deffensive plays"
   ]
  },
  {
   "cell_type": "code",
   "execution_count": 18,
   "metadata": {
    "collapsed": false
   },
   "outputs": [
    {
     "name": "stdout",
     "output_type": "stream",
     "text": [
      "Denver Offense\n",
      "Top 5 Clusters:   [ 2  3 30 22 26]\n",
      "Bottom 5 Clusters:[31 13 16 17  4]\n"
     ]
    }
   ],
   "source": [
    "num_times_in_clusters = df_den_o.groupby('cluster_assignment').count()\n",
    "x = np.array(num_times_in_clusters)[:,0]\n",
    "clusters_order = np.argsort(x)# tells us what clusters Denver Offense is in sorted from the least often to most often\n",
    "print 'Denver Offense'\n",
    "print 'Top 5 Clusters:   {}'.format(clusters_order[::-1][:5])\n",
    "print 'Bottom 5 Clusters:{}'.format(clusters_order[:5])"
   ]
  },
  {
   "cell_type": "code",
   "execution_count": 19,
   "metadata": {
    "collapsed": false
   },
   "outputs": [
    {
     "name": "stdout",
     "output_type": "stream",
     "text": [
      "Carolina Offense\n",
      "Top 5 Clusters:   [ 2 23 26  5 18]\n",
      "Bottom 5 Clusters:[31 13 16 10 21]\n"
     ]
    }
   ],
   "source": [
    "num_times_in_clusters = df_car_o.groupby('cluster_assignment').count()\n",
    "x = np.array(num_times_in_clusters)[:,0]\n",
    "clusters_order = np.argsort(x)# tells us what clusters Carolina Offense is in sorted from the least often to most often\n",
    "print 'Carolina Offense'\n",
    "print 'Top 5 Clusters:   {}'.format(clusters_order[::-1][:5])\n",
    "print 'Bottom 5 Clusters:{}'.format(clusters_order[:5])"
   ]
  },
  {
   "cell_type": "code",
   "execution_count": 21,
   "metadata": {
    "collapsed": false
   },
   "outputs": [
    {
     "name": "stdout",
     "output_type": "stream",
     "text": [
      "Denver Defense\n",
      "Top 5 Clusters:   [ 3  2 19 18 26]\n",
      "Bottom 5 Clusters:[13 12 24 30 27]\n"
     ]
    }
   ],
   "source": [
    "num_times_in_clusters = df_den_d.groupby('cluster_assignment').count()\n",
    "x = np.array(num_times_in_clusters)[:,0]\n",
    "clusters_order = np.argsort(x)# tells us what clusters Denver Offense is in sorted from the least often to most often\n",
    "print 'Denver Defense'\n",
    "print 'Top 5 Clusters:   {}'.format(clusters_order[::-1][:5])\n",
    "print 'Bottom 5 Clusters:{}'.format(clusters_order[:5])"
   ]
  },
  {
   "cell_type": "code",
   "execution_count": 22,
   "metadata": {
    "collapsed": false
   },
   "outputs": [
    {
     "name": "stdout",
     "output_type": "stream",
     "text": [
      "Carolina Offense\n",
      "Top 5 Clusters:   [ 2  3 19  8  7]\n",
      "Bottom 5 Clusters:[31 13 22  0 30]\n"
     ]
    }
   ],
   "source": [
    "num_times_in_clusters = df_car_d.groupby('cluster_assignment').count()\n",
    "x = np.array(num_times_in_clusters)[:,0]\n",
    "clusters_order = np.argsort(x)# tells us what clusters Carolina Offense is in sorted from the least often to most often\n",
    "print 'Carolina Offense'\n",
    "print 'Top 5 Clusters:   {}'.format(clusters_order[::-1][:5])\n",
    "print 'Bottom 5 Clusters:{}'.format(clusters_order[:5])"
   ]
  },
  {
   "cell_type": "code",
   "execution_count": null,
   "metadata": {
    "collapsed": true
   },
   "outputs": [],
   "source": []
  }
 ],
 "metadata": {
  "kernelspec": {
   "display_name": "Python 2",
   "language": "python",
   "name": "python2"
  },
  "language_info": {
   "codemirror_mode": {
    "name": "ipython",
    "version": 2
   },
   "file_extension": ".py",
   "mimetype": "text/x-python",
   "name": "python",
   "nbconvert_exporter": "python",
   "pygments_lexer": "ipython2",
   "version": "2.7.11"
  },
  "widgets": {
   "state": {},
   "version": "1.1.2"
  }
 },
 "nbformat": 4,
 "nbformat_minor": 0
}
